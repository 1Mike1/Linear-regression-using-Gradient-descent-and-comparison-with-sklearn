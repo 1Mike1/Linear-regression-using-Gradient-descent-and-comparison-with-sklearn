{
 "cells": [
  {
   "cell_type": "markdown",
   "metadata": {},
   "source": [
    "# Linear regression using Gradient descent and comparison with sklearn"
   ]
  },
  {
   "cell_type": "markdown",
   "metadata": {},
   "source": [
    "\n",
    "\n",
    "## Why Linear regression ?\n",
    "\n",
    "\n",
    "Linear regression was developed in the field of statistics as a model for understanding the relationship between input and output numerical variables.\n",
    "\n",
    "Linear regression is a linear model, e.g. a model that assumes a linear relationship between the input variables (x) and the single output variable (y). More specifically, that y can be calculated from a linear combination of the input variables (x).\n",
    "\n",
    "Linear regression is an attractive model because the representation of linear regression is simple.\n",
    "\n",
    "Learning a linear regression model means estimating the values of the coefficients used in the representation with the data that we have available.\n",
    "\n",
    "There are many ways to enhance our linear model, but for this section i am using the most common technique <b>Gradient Descent</b>."
   ]
  },
  {
   "cell_type": "markdown",
   "metadata": {},
   "source": [
    "## Terminology\n",
    "Predictor variables are also known as covariates, independent variables, regressors, factors, and features, among other things. \n",
    "\n",
    "The outcome variable is also known as the dependent variable and the response variable.\n"
   ]
  },
  {
   "cell_type": "markdown",
   "metadata": {},
   "source": [
    "### Example\n",
    "\n",
    "Let's take the example of students, where we will understand how much marks they will obtain based on the time they spend on studying\n",
    "\n",
    "Before we go further lets understand the concept of independent variable and dependent variable.\n",
    "\n",
    "<b>Independent variables (also known as \"Features\")</b> are the <b>input</b> for a process that is <b>being analyzes</b> from our side and perform some steps on input data to <b>provide best input/Feature</b> to our code. In Machine Learning this process is know as <b>data pre-processing</b>.\n",
    "\n",
    "<b>Dependent variables</b> are the output of the process which is also known as <b>target varibale</b>.\n",
    "As we all know our output is always depends on the input which we provide to our code, our code process on the\n",
    "input and give the <b>output according to our input</b>.\n",
    "\n",
    "\n",
    "\n",
    "### Here\n",
    "1. Time is independent variable. (it is not dependent on any other varible)\n",
    "2. Mark's is dependent variable. (it is depend on time)\n",
    "       \n",
    "       "
   ]
  },
  {
   "cell_type": "markdown",
   "metadata": {},
   "source": [
    "\n",
    "\n",
    "## Creating dataset of students using some python library"
   ]
  },
  {
   "cell_type": "code",
   "execution_count": 1,
   "metadata": {},
   "outputs": [
    {
     "data": {
      "text/html": [
       "<div>\n",
       "<style scoped>\n",
       "    .dataframe tbody tr th:only-of-type {\n",
       "        vertical-align: middle;\n",
       "    }\n",
       "\n",
       "    .dataframe tbody tr th {\n",
       "        vertical-align: top;\n",
       "    }\n",
       "\n",
       "    .dataframe thead th {\n",
       "        text-align: right;\n",
       "    }\n",
       "</style>\n",
       "<table border=\"1\" class=\"dataframe\">\n",
       "  <thead>\n",
       "    <tr style=\"text-align: right;\">\n",
       "      <th></th>\n",
       "      <th>Time (Mins)</th>\n",
       "      <th>Marks (out of 100)</th>\n",
       "    </tr>\n",
       "  </thead>\n",
       "  <tbody>\n",
       "    <tr>\n",
       "      <th>0</th>\n",
       "      <td>10</td>\n",
       "      <td>5</td>\n",
       "    </tr>\n",
       "    <tr>\n",
       "      <th>1</th>\n",
       "      <td>20</td>\n",
       "      <td>7</td>\n",
       "    </tr>\n",
       "    <tr>\n",
       "      <th>2</th>\n",
       "      <td>30</td>\n",
       "      <td>9</td>\n",
       "    </tr>\n",
       "    <tr>\n",
       "      <th>3</th>\n",
       "      <td>40</td>\n",
       "      <td>11</td>\n",
       "    </tr>\n",
       "    <tr>\n",
       "      <th>4</th>\n",
       "      <td>45</td>\n",
       "      <td>12</td>\n",
       "    </tr>\n",
       "  </tbody>\n",
       "</table>\n",
       "</div>"
      ],
      "text/plain": [
       "   Time (Mins)  Marks (out of 100)\n",
       "0           10                   5\n",
       "1           20                   7\n",
       "2           30                   9\n",
       "3           40                  11\n",
       "4           45                  12"
      ]
     },
     "execution_count": 1,
     "metadata": {},
     "output_type": "execute_result"
    }
   ],
   "source": [
    "import pandas as pd\n",
    "import numpy as np\n",
    "\n",
    "# Time in minutes\n",
    "Time = np.array([10,20,30,40,45,60,68,76,80,85,100,130,143,150,156,165,180,192,200,230,238,253,260,271,288,291,293,296,299,300])\n",
    "\n",
    "# Marks obtain out of 100\n",
    "Marks = np.array([5,7,9,11,12,15,17,19,20,21,23,25,26,28,31,33,38,45,53,57,63,65,74,88,90,92,93,95,98,98])\n",
    "\n",
    "# Dataset of student\n",
    "student = {\n",
    "            'Time (Mins)':Time,\n",
    "            'Marks (out of 100)':Marks,\n",
    "          }\n",
    "\n",
    "# Convert it into Dataframe using pandas\n",
    "dataset = pd.DataFrame(student)\n",
    "dataset.head() # returns first five data"
   ]
  },
  {
   "cell_type": "markdown",
   "metadata": {},
   "source": [
    "\n",
    "\n",
    "## Let's visualize the above dataset to understand, how our marks get affected by time."
   ]
  },
  {
   "cell_type": "code",
   "execution_count": 3,
   "metadata": {},
   "outputs": [
    {
     "data": {
      "text/plain": [
       "<matplotlib.legend.Legend at 0x14c3d7b8908>"
      ]
     },
     "execution_count": 3,
     "metadata": {},
     "output_type": "execute_result"
    },
    {
     "data": {
      "image/png": "[encoded data removed]",
      "text/plain": [
       "<Figure size 432x288 with 1 Axes>"
      ]
     },
     "metadata": {
      "needs_background": "light"
     },
     "output_type": "display_data"
    }
   ],
   "source": [
    "import matplotlib.pyplot as plt\n",
    "\n",
    "# Getting values of time and marks\n",
    "X = dataset.iloc[:,:-1].values\n",
    "Y = dataset.iloc[:,1:].values\n",
    "\n",
    "# Plotting students data on grap with respect to time and marks\n",
    "plt.title('Students', fontsize=20)\n",
    "data = plt.scatter(X,Y,color='#007AFF',marker='D',linewidths=1)\n",
    "plt.xlabel('Time (In Mins)', fontsize=15)\n",
    "plt.ylabel('Marks (Out of 100)', fontsize=15)\n",
    "plt.grid()\n",
    "plt.legend([data],['Student data (Time vs Marks)'])"
   ]
  },
  {
   "cell_type": "markdown",
   "metadata": {},
   "source": [
    "### Observation\n",
    "\n",
    "Observe the above graph, If you notice the students those who spend more time on study they got good marks and the student who spend less time they got less mark. that means the relationship between time spent and marks is linear, thats why we can linear regression for that problem"
   ]
  },
  {
   "cell_type": "markdown",
   "metadata": {},
   "source": [
    "## Gradient descent\n",
    "\n",
    "When there are one or more inputs you can use a process of optimizing the values of the coefficients by iteratively minimizing the error of the model on your training data.\n",
    "\n",
    "This operation is called Gradient Descent and works by starting with random values for each coefficient.\n",
    "\n",
    "Gradient descent is an optimization algorithm used to minimize some function by iteratively moving in the direction of steepest descent as defined by the negative of the gradient. \n",
    "\n",
    "In machine learning, we use gradient descent to update the parameters of our model. Parameters refer to coefficients in Linear Regression and weights in neural networks.\n",
    "\n",
    "In gradient descent there two major factor which will help us to optimize out loss or cost.\n",
    "1. <b>Learning Rate</b> (how fast your model will learn, basicall it is float value which will be get multiply by updated value      of graident i.e slop(m) and bias((b)).\n",
    "2. <b>Epochs</b> (Number of itteration, it tell our program to train each and every datapoint with respect to number itteration).\n",
    "\n",
    "A learning rate is used as a scale factor and the coefficients are updated in the direction towards minimizing the error. The process is repeated until a minimum sum squared error is achieved or no further improvement is possible.\n",
    "\n",
    "### Cost function\n",
    "A Loss Functions tells us “how good” our model is at making predictions for a given set of parameters. The cost function has its own curve and its own gradients. The slope of this curve tells us how to update our parameters to make the model more accurate.\n",
    "\n",
    "\n",
    "### Step-by-step\n",
    "Now let’s run gradient descent using our new cost function. There are two parameters in our cost function we can control: m (weight) and b (bias). Since we need to consider the impact each one has on the final prediction, we need to use partial derivatives. We calculate the partial derivatives of the cost function with respect to each parameter and store the results in a gradient.\n",
    "\n",
    "### Math\n",
    "\n",
    "To represent the line we generally use the slope-intercept form whose equation is\n",
    "\n",
    "$y = mx + b$\n",
    "\n",
    "where m is the slope of the line and b is the y-intercept of the line.\n",
    "\n",
    "The gradient can be calculated as:\n",
    "<img src=\"sum_of_square_gradient.png\">\n",
    "\n",
    "\n",
    "\n",
    "To solve for the gradient, we iterate through our data points using our new m and b values and compute the partial derivatives. This new gradient tells us the slope of our cost function at our current position (current parameter values) and the direction we should move to update our parameters. The size of our update is controlled by the learning rate.\n",
    "\n",
    "\n",
    "Gradient Descent is the most used learning algorithm in Machine Learning.\n"
   ]
  },
  {
   "cell_type": "markdown",
   "metadata": {},
   "source": [
    "## Graphical representation"
   ]
  },
  {
   "cell_type": "code",
   "execution_count": 4,
   "metadata": {},
   "outputs": [
    {
     "data": {
      "text/plain": [
       "<matplotlib.legend.Legend at 0x14c3d83fa20>"
      ]
     },
     "execution_count": 4,
     "metadata": {},
     "output_type": "execute_result"
    },
    {
     "data": {
      "image/png": "[encoded data removed]",
      "text/plain": [
       "<Figure size 432x288 with 1 Axes>"
      ]
     },
     "metadata": {
      "needs_background": "light"
     },
     "output_type": "display_data"
    }
   ],
   "source": [
    "import pandas as pd\n",
    "import numpy as np\n",
    "import matplotlib.pyplot as plt\n",
    "\n",
    "x = np.array([1,1.5,2,2.5,3,3.5,4,4.5,5,5.5,6,6.5,7,7.5,8,8.5,9,9.5,10,10.5,11,11.5,12,12.5,13,13.5,14,14.5,15,15.5,16,16.5,17,17.5])\n",
    "y = np.array([10,9.5,9,8.5,8,7.5,7,6.5,6,5.5,5,4.5,4,3.5,3,2.5,2,2,2.5,3,3.5,4,4.5,5,5.5,6,6.5,7,7.5,8,8.5,9,9.5,10])\n",
    "\n",
    "current_pos = (1,10)\n",
    "destination = (9.2,2)\n",
    "\n",
    "plt.title('Test Graph',fontsize=18)\n",
    "plt.plot(x,y)\n",
    "current_pos = plt.scatter(current_pos[0],current_pos[1],color='r',marker='*',linewidths=5)\n",
    "dest_pos = plt.scatter(destination[0],destination[1],color='b',marker='D',linewidths=3)\n",
    "plt.xlabel('x-axis',fontsize=18)\n",
    "plt.ylabel('y-axis',fontsize=18)\n",
    "plt.grid()\n",
    "plt.legend([current_pos,dest_pos],['Current Position','Destination'])"
   ]
  },
  {
   "cell_type": "markdown",
   "metadata": {},
   "source": [
    "## Here:\n",
    "   Red point is the current possition which have the high cost and we have to reach blue point which have the low cost.\n",
    "   here the \"cost\" stands for error.\n",
    "    \n",
    "Starting at the top of the graph, we take our first step down in the direction specified by the negative gradient.\n",
    "Next we recalculate the negative gradient (passing in the coordinates of our new point) and take another step in the direction it specifies.\n",
    "\n",
    "We continue this process iteratively until we get to the bottom of our graph, or to a point where we can no longer move down.\n",
    "\n",
    "To reach down the minimum point we will use the above math and implement it into our code and try to find the best way to reach our destination by reducing our cost function."
   ]
  },
  {
   "cell_type": "markdown",
   "metadata": {},
   "source": [
    "\n",
    "\n",
    "## Let's implement the above logic into code.\n"
   ]
  },
  {
   "cell_type": "code",
   "execution_count": 5,
   "metadata": {},
   "outputs": [],
   "source": [
    "import numpy as np\n",
    "import matplotlib.pyplot as plt\n",
    "import pandas as pd"
   ]
  },
  {
   "cell_type": "code",
   "execution_count": 6,
   "metadata": {},
   "outputs": [],
   "source": [
    "import random\n",
    "\n",
    "# Loading Dataset\n",
    "def get_data_from_dataset():\n",
    "    data = pd.read_csv('dataset.csv',delimiter=',')\n",
    "    x = data.iloc[:,:-1]\n",
    "    y = data.iloc[:,1:]\n",
    "    \n",
    "    return np.array(x),np.array(y)"
   ]
  },
  {
   "cell_type": "markdown",
   "metadata": {},
   "source": [
    "## Assiging feature and traget values using \"get_data_from_dataset\" function"
   ]
  },
  {
   "cell_type": "code",
   "execution_count": 7,
   "metadata": {},
   "outputs": [],
   "source": [
    "x1,y1=get_data_from_dataset()"
   ]
  },
  {
   "cell_type": "code",
   "execution_count": 8,
   "metadata": {},
   "outputs": [
    {
     "data": {
      "text/plain": [
       "<matplotlib.legend.Legend at 0x14c3d8b39e8>"
      ]
     },
     "execution_count": 8,
     "metadata": {},
     "output_type": "execute_result"
    },
    {
     "data": {
      "image/png": "[encoded data removed]",
      "text/plain": [
       "<Figure size 432x288 with 1 Axes>"
      ]
     },
     "metadata": {
      "needs_background": "light"
     },
     "output_type": "display_data"
    }
   ],
   "source": [
    "plt.title('Time vs Marks', fontsize=15)\n",
    "plt.xlabel('<--- Time --->',fontsize=13)\n",
    "plt.ylabel('<--- Marks --->',fontsize=13)\n",
    "data = plt.scatter(x1,y1,color='r', marker='X')\n",
    "plt.grid()\n",
    "plt.legend([data],['Student Data'])"
   ]
  },
  {
   "cell_type": "markdown",
   "metadata": {},
   "source": [
    "# Coding Part"
   ]
  },
  {
   "cell_type": "code",
   "execution_count": 9,
   "metadata": {},
   "outputs": [],
   "source": [
    "# Plot Lines \n",
    "def plotLines(x1,y1,b,m,prid,result):\n",
    "    \n",
    "    plt.title('Gradient descent', fontsize=20)    \n",
    "    data = plt.scatter(x1,y1,color='red',marker='P')\n",
    "    \n",
    "    # Formula to predict the value of y.\n",
    "    y = (m*np.array(x1)) + b\n",
    "    \n",
    "    gd, = plt.plot(np.array(x1),y,linewidth=2)\n",
    "    predRes = plt.scatter(prid,result,color='black', linewidth=4)\n",
    "    \n",
    "    plt.xlabel('<------- Time(In Min) ------->',fontsize=14)\n",
    "    plt.ylabel('<------- Makrs(Out of 100) ------->',fontsize=14)\n",
    "    plt.grid(True)\n",
    "    plt.legend([data, gd, predRes], ['Data', 'GD', 'Prediction'], loc='best')"
   ]
  },
  {
   "cell_type": "code",
   "execution_count": 10,
   "metadata": {},
   "outputs": [],
   "source": [
    "# Pridict Function\n",
    "def predict(b,m,x):\n",
    "    return (x*m + b)"
   ]
  },
  {
   "cell_type": "code",
   "execution_count": 11,
   "metadata": {},
   "outputs": [],
   "source": [
    "# Training out model with the on given dataset\n",
    "def fit(x,y,lr,epoch):\n",
    "    b=0 # Y intercept i.e initial assign zero(0)\n",
    "    m=0 # slop intercept i.e initial assign zero (0)\n",
    "    N=len(x) \n",
    "    \n",
    "    for i in range(epoch): #going through all the data points multiple times\n",
    "        m_grad = 0 #\n",
    "        b_grad = 0 # \n",
    "        \n",
    "        for i in range(N):\n",
    "            x_cur=x[i]\n",
    "            y_cur=y[i]\n",
    "            \n",
    "            # formula for the partial derivative of error function with respect to m\n",
    "            m_grad += -(2/N) * x_cur * (y_cur - ((m * x_cur)+b))\n",
    "            \n",
    "            # formula for the partial derivative of error function with respect to b\n",
    "            b_grad += -(2/N) * (y_cur - ((m * x_cur)+b)) \n",
    "        \n",
    "        # updating the values\n",
    "        b -= (lr*(b_grad/N))\n",
    "        m -= (lr*(m_grad/N))\n",
    "    \n",
    "    return[b,m]"
   ]
  },
  {
   "cell_type": "code",
   "execution_count": 12,
   "metadata": {},
   "outputs": [
    {
     "name": "stdout",
     "output_type": "stream",
     "text": [
      "b=[1.17764706]\n",
      "m=[0.84500692]\n",
      "Predict : [77.22826973]\n"
     ]
    },
    {
     "data": {
      "image/png": "[encoded data removed]",
      "text/plain": [
       "<Figure size 432x288 with 1 Axes>"
      ]
     },
     "metadata": {
      "needs_background": "light"
     },
     "output_type": "display_data"
    }
   ],
   "source": [
    "# Loading dataset and training model\n",
    "def init():\n",
    "    \n",
    "    # reading from csv file\n",
    "    x1,y1 = get_data_from_dataset()\n",
    "    \n",
    "    # setting Learning rate\n",
    "    lr = 0.01 # lr -> learning rate\n",
    "    epoch = 1000 # epochs\n",
    "    \n",
    "    [b,m] = fit(x1,y1,lr,epoch)\n",
    "    \n",
    "    print(f'b={b}\\nm={m}')\n",
    "    time_spend = 90\n",
    "    result = predict(b,m,time_spend)\n",
    "    \n",
    "    # Prediction result\n",
    "    print('Predict :',result)\n",
    "    \n",
    "    # Plotting datapoints, predicted value and drawing optimal line on the graph\n",
    "    plotLines(x1,y1,b,m,time_spend,result)\n",
    "    \n",
    "init()"
   ]
  },
  {
   "cell_type": "markdown",
   "metadata": {},
   "source": [
    "# Comparison\n",
    "\n",
    "\n",
    "## Let's check the same dataset using sklearn library in python and compare out output"
   ]
  },
  {
   "cell_type": "code",
   "execution_count": 13,
   "metadata": {},
   "outputs": [],
   "source": [
    "import pandas as pd\n",
    "import numpy as np\n",
    "import matplotlib.pyplot as plt\n",
    "from sklearn.linear_model import LinearRegression"
   ]
  },
  {
   "cell_type": "markdown",
   "metadata": {},
   "source": [
    "### Loading dataset using above function \"get_data_from_dataset\""
   ]
  },
  {
   "cell_type": "code",
   "execution_count": 14,
   "metadata": {},
   "outputs": [],
   "source": [
    "X,Y = get_data_from_dataset()"
   ]
  },
  {
   "cell_type": "markdown",
   "metadata": {},
   "source": [
    "### Using sklearn it is very easy to train our model and predict our output in just four line of code for basic dataset. \n",
    "\n",
    "### If you some large dataset we need to do some data analysis and data pre-processing and atlast again we need just four line of code to train and predict our output."
   ]
  },
  {
   "cell_type": "markdown",
   "metadata": {},
   "source": [
    "### Here is the code"
   ]
  },
  {
   "cell_type": "code",
   "execution_count": 15,
   "metadata": {},
   "outputs": [],
   "source": [
    "# creating linear model classifier.\n",
    "clf = LinearRegression()"
   ]
  },
  {
   "cell_type": "code",
   "execution_count": 16,
   "metadata": {},
   "outputs": [
    {
     "data": {
      "text/plain": [
       "LinearRegression(copy_X=True, fit_intercept=True, n_jobs=None, normalize=False)"
      ]
     },
     "execution_count": 16,
     "metadata": {},
     "output_type": "execute_result"
    }
   ],
   "source": [
    "# training out dataset using fit.\n",
    "clf.fit(X,Y)"
   ]
  },
  {
   "cell_type": "code",
   "execution_count": 17,
   "metadata": {},
   "outputs": [
    {
     "name": "stdout",
     "output_type": "stream",
     "text": [
      "Prediction:76.92679759599943\n"
     ]
    }
   ],
   "source": [
    "# predicting the value\n",
    "result = clf.predict([[90]])\n",
    "print(f'Prediction:{result[0][0]}')"
   ]
  },
  {
   "cell_type": "markdown",
   "metadata": {},
   "source": [
    "If you notice there is little difference between our prediction and sklearn prediction, it is beacuse of the method which  we used is <b>Gradient descent</b> and the method used by <b>sklearn</b> is <b>Least Squares solver</b>.\n",
    "   \n",
    "\n",
    "If you feel you want to play with the above code, Do some changes in learning rate(lr) and epochs and run the code.\n"
   ]
  }
 ],
 "metadata": {
  "kernelspec": {
   "display_name": "Python 3",
   "language": "python",
   "name": "python3"
  },
  "language_info": {
   "codemirror_mode": {
    "name": "ipython",
    "version": 3
   },
   "file_extension": ".py",
   "mimetype": "text/x-python",
   "name": "python",
   "nbconvert_exporter": "python",
   "pygments_lexer": "ipython3",
   "version": "3.6.8"
  }
 },
 "nbformat": 4,
 "nbformat_minor": 2
}
